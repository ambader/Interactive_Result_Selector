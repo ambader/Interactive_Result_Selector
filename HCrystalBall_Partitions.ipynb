{
 "cells": [
  {
   "cell_type": "code",
   "execution_count": 1,
   "metadata": {},
   "outputs": [],
   "source": [
    "from hcrystalball.utils import generate_tsdata\n",
    "from hcrystalball.wrappers import ProphetWrapper\n",
    "\n",
    "X, y = generate_tsdata(n_dates=365*2)\n",
    "X_train, y_train, X_test, y_test = X[:-10], y[:-10], X[-10:], y[-10:]\n",
    "\n",
    "model = ProphetWrapper()\n",
    "y_pred = model.fit(X_train,y_train).predict(X_test)"
   ]
  },
  {
   "cell_type": "code",
   "execution_count": 2,
   "metadata": {},
   "outputs": [
    {
     "data": {
      "application/vnd.jupyter.widget-view+json": {
       "model_id": "5d5002e6fdfd406da334e00922e26669",
       "version_major": 2,
       "version_minor": 0
      },
      "text/plain": [
       "HBox(children=(IntProgress(value=0, description='Select Models', max=8, style=ProgressStyle(description_width=…"
      ]
     },
     "metadata": {},
     "output_type": "display_data"
    },
    {
     "name": "stdout",
     "output_type": "stream",
     "text": [
      "\n"
     ]
    }
   ],
   "source": [
    "from hcrystalball.utils import generate_multiple_tsdata\n",
    "from hcrystalball.model_selection import ModelSelector\n",
    "\n",
    "df = generate_multiple_tsdata(n_dates=200, n_regions=2, n_plants=2, n_products=2)\n",
    "\n",
    "ms = ModelSelector(horizon=10, frequency=\"D\", country_code_column=\"Country\")\n",
    "ms.create_gridsearch(n_splits=2, sklearn_models=True, prophet_models=False, exog_cols=[\"Raining\"])\n",
    "ms.select_model(df=df, target_col_name=\"Quantity\", partition_columns=[\"Region\", \"Plant\", \"Product\"])"
   ]
  },
  {
   "cell_type": "code",
   "execution_count": 3,
   "metadata": {},
   "outputs": [],
   "source": [
    "import ipywidgets as widgets\n",
    "from IPython.display import display,clear_output\n",
    "import matplotlib.pyplot as plt\n",
    "\n",
    "def mk_option_list(inp):\n",
    "    zw_list={}\n",
    "    for i in inp.get_partitions()[0].keys():\n",
    "        zw=[]\n",
    "        for j in inp.get_partitions():\n",
    "            zw.append(j[i])\n",
    "        zw_list.update({ i : set(zw)})\n",
    "    return zw_list\n",
    "\n",
    "def mk_dropdown_menue(inp):\n",
    "    zw=mk_option_list(inp)\n",
    "    for i in zw.keys():\n",
    "        exec(str(i)+\"=widgets.Dropdown(options=\"+str(zw[i])+\", description='\"+str(i)+\"')\", globals())\n",
    "        exec(\"display(\"+str(i)+\")\", globals())\n",
    "        \n",
    "def recent_choice(inp):\n",
    "    ll=mk_option_list(inp).keys()\n",
    "    out=[]\n",
    "    for i in ll:\n",
    "        zw=eval(i+\".value\")\n",
    "        out.append(zw)\n",
    "    return out\n",
    "\n",
    "def display_IRS(inp):\n",
    "    %matplotlib inline\n",
    "    %config InlineBackend.close_figures=True\n",
    "    \n",
    "    mk_dropdown_menue(inp)\n",
    "    \n",
    "    output = widgets.Output()\n",
    "    button = widgets.Button(description=\"Show Plot\")\n",
    "    \n",
    "    display(button,output)\n",
    "    \n",
    "    def on_button_clicked(b):\n",
    "        with output:\n",
    "            for i in inp.get_partitions():\n",
    "                if [*i.values()]==recent_choice(inp):\n",
    "                    inp.get_result_for_partition(i).df_plot.plot()\n",
    "                else:\n",
    "                    pass\n",
    "        clear_output()\n",
    "        mk_dropdown_menue(inp)\n",
    "        display(button,output)\n",
    "            \n",
    "    button.on_click(on_button_clicked)"
   ]
  },
  {
   "cell_type": "code",
   "execution_count": 4,
   "metadata": {},
   "outputs": [
    {
     "data": {
      "application/vnd.jupyter.widget-view+json": {
       "model_id": "2c202c0db4704e23a2c6c49f7d74a1ff",
       "version_major": 2,
       "version_minor": 0
      },
      "text/plain": [
       "Dropdown(description='Plant', options=('plant_0', 'plant_1'), value='plant_0')"
      ]
     },
     "metadata": {},
     "output_type": "display_data"
    },
    {
     "data": {
      "application/vnd.jupyter.widget-view+json": {
       "model_id": "e09408b6a39b4ae783b01c1d5c8bd07d",
       "version_major": 2,
       "version_minor": 0
      },
      "text/plain": [
       "Dropdown(description='Product', options=('product_0', 'product_1'), value='product_0')"
      ]
     },
     "metadata": {},
     "output_type": "display_data"
    },
    {
     "data": {
      "application/vnd.jupyter.widget-view+json": {
       "model_id": "53c4f627fcbe49058b4a80b2a8bbd846",
       "version_major": 2,
       "version_minor": 0
      },
      "text/plain": [
       "Dropdown(description='Region', options=('region_0', 'region_1'), value='region_0')"
      ]
     },
     "metadata": {},
     "output_type": "display_data"
    },
    {
     "data": {
      "application/vnd.jupyter.widget-view+json": {
       "model_id": "56986bd230e44414a9935ddd9ec092b2",
       "version_major": 2,
       "version_minor": 0
      },
      "text/plain": [
       "Button(description='Show Plot', style=ButtonStyle())"
      ]
     },
     "metadata": {},
     "output_type": "display_data"
    },
    {
     "data": {
      "application/vnd.jupyter.widget-view+json": {
       "model_id": "ba3bd39058c145189b4b690ffd9bf111",
       "version_major": 2,
       "version_minor": 0
      },
      "text/plain": [
       "Output()"
      ]
     },
     "metadata": {},
     "output_type": "display_data"
    }
   ],
   "source": [
    "display_IRS(ms)"
   ]
  },
  {
   "cell_type": "code",
   "execution_count": 5,
   "metadata": {},
   "outputs": [
    {
     "data": {
      "application/vnd.jupyter.widget-view+json": {
       "model_id": "e43a9afdc0cb4876bafca7c15e7ac371",
       "version_major": 2,
       "version_minor": 0
      },
      "text/plain": [
       "Dropdown(description='Plant', options=('plant_0', 'plant_1'), value='plant_0')"
      ]
     },
     "metadata": {},
     "output_type": "display_data"
    },
    {
     "data": {
      "application/vnd.jupyter.widget-view+json": {
       "model_id": "6976b6a8f0a94b5dbfa7a0dd2e227abf",
       "version_major": 2,
       "version_minor": 0
      },
      "text/plain": [
       "Dropdown(description='Product', options=('product_0', 'product_1'), value='product_0')"
      ]
     },
     "metadata": {},
     "output_type": "display_data"
    },
    {
     "data": {
      "application/vnd.jupyter.widget-view+json": {
       "model_id": "9af788e217c444f381fc3815a4905551",
       "version_major": 2,
       "version_minor": 0
      },
      "text/plain": [
       "Dropdown(description='Region', options=('region_0', 'region_1'), value='region_0')"
      ]
     },
     "metadata": {},
     "output_type": "display_data"
    },
    {
     "data": {
      "application/vnd.jupyter.widget-view+json": {
       "model_id": "72fd44fd373e4992860b2e240f05e1d9",
       "version_major": 2,
       "version_minor": 0
      },
      "text/plain": [
       "Button(description='Show Plot', style=ButtonStyle())"
      ]
     },
     "metadata": {},
     "output_type": "display_data"
    },
    {
     "data": {
      "application/vnd.jupyter.widget-view+json": {
       "model_id": "e75b22dee8074f2081025621a2ddc1f9",
       "version_major": 2,
       "version_minor": 0
      },
      "text/plain": [
       "Output()"
      ]
     },
     "metadata": {},
     "output_type": "display_data"
    },
    {
     "data": {
      "image/png": "[encoded data removed]",
      "text/plain": [
       "<Figure size 432x288 with 1 Axes>"
      ]
     },
     "metadata": {
      "needs_background": "light"
     },
     "output_type": "display_data"
    }
   ],
   "source": [
    "display_IRS(ms)"
   ]
  },
  {
   "cell_type": "code",
   "execution_count": 6,
   "metadata": {},
   "outputs": [
    {
     "data": {
      "application/vnd.jupyter.widget-view+json": {
       "model_id": "f72fb26777eb497b94a36ff3e43a5fc5",
       "version_major": 2,
       "version_minor": 0
      },
      "text/plain": [
       "Dropdown(description='Plant', options=('plant_0', 'plant_1'), value='plant_0')"
      ]
     },
     "metadata": {},
     "output_type": "display_data"
    },
    {
     "data": {
      "application/vnd.jupyter.widget-view+json": {
       "model_id": "619146041d034a3f9686ba9016ee5b08",
       "version_major": 2,
       "version_minor": 0
      },
      "text/plain": [
       "Dropdown(description='Product', options=('product_0', 'product_1'), value='product_0')"
      ]
     },
     "metadata": {},
     "output_type": "display_data"
    },
    {
     "data": {
      "application/vnd.jupyter.widget-view+json": {
       "model_id": "d1f269429bf84b638a0fe6c3e7b502ba",
       "version_major": 2,
       "version_minor": 0
      },
      "text/plain": [
       "Dropdown(description='Region', options=('region_0', 'region_1'), value='region_0')"
      ]
     },
     "metadata": {},
     "output_type": "display_data"
    },
    {
     "data": {
      "application/vnd.jupyter.widget-view+json": {
       "model_id": "c569d3a9180447b597d2752e2c22c14f",
       "version_major": 2,
       "version_minor": 0
      },
      "text/plain": [
       "Button(description='Show Plot', style=ButtonStyle())"
      ]
     },
     "metadata": {},
     "output_type": "display_data"
    },
    {
     "data": {
      "application/vnd.jupyter.widget-view+json": {
       "model_id": "ded9d1b4d86843b295015d694140739d",
       "version_major": 2,
       "version_minor": 0
      },
      "text/plain": [
       "Output()"
      ]
     },
     "metadata": {},
     "output_type": "display_data"
    }
   ],
   "source": [
    "display_IRS(ms)"
   ]
  },
  {
   "cell_type": "code",
   "execution_count": null,
   "metadata": {},
   "outputs": [],
   "source": []
  }
 ],
 "metadata": {
  "kernelspec": {
   "display_name": "Python 3",
   "language": "python",
   "name": "python3"
  },
  "language_info": {
   "codemirror_mode": {
    "name": "ipython",
    "version": 3
   },
   "file_extension": ".py",
   "mimetype": "text/x-python",
   "name": "python",
   "nbconvert_exporter": "python",
   "pygments_lexer": "ipython3",
   "version": "3.7.4"
  }
 },
 "nbformat": 4,
 "nbformat_minor": 2
}
